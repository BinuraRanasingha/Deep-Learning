{
 "cells": [
  {
   "cell_type": "markdown",
   "id": "11c8483a-82c4-41c0-9bb2-c9204bd0bc2e",
   "metadata": {},
   "source": [
    "# Loading the necessary packages"
   ]
  },
  {
   "cell_type": "code",
   "execution_count": 1,
   "id": "1fd56146-791c-4f39-81f5-37889d4035e2",
   "metadata": {},
   "outputs": [],
   "source": [
    "from tensorflow.keras.datasets.mnist import load_data\n",
    "from tensorflow.keras.layers import Dense, Input, Flatten, Reshape, Conv2D, Conv2DTranspose\n",
    "from tensorflow.keras.models import Model\n",
    "import matplotlib.pyplot as plt\n",
    "from tensorflow.keras.optimizers import Adam\n",
    "from tensorflow.keras.callbacks import EarlyStopping\n",
    "import numpy as np\n",
    "from tensorflow.keras import backend"
   ]
  },
  {
   "cell_type": "markdown",
   "id": "026ddbbc",
   "metadata": {},
   "source": [
    "* Autoencoders are a class of Unsupervised Networks that consist of two major networks: Encoders and Decoders.\n",
    "\n",
    "* An Unsupervised Network is a network that learns patterns from data without any training labels. The network finds its patterns in the data without being told what the patterns should be.\n",
    "\n",
    "* In contrast, there are Supervised Networks wherein the network is trained to return specific outputs when given specific inputs.\n",
    "\n",
    "* The Encoder generally uses a series of Dense and/or Convolutional layers to encode an image into a fixed length vector that represents the image a compact form, while the Decoder uses Dense and/or Convolutional layers to convert the latent representation vector back into that same image or another modified image.\n",
    "\n",
    "* To generate an image, a random input vector is given to the Decoder network. The Decoder network will convert the input vector into a full image."
   ]
  },
  {
   "cell_type": "markdown",
   "id": "c84c4dfc-57d2-4d82-a92f-f0b2c3529641",
   "metadata": {},
   "source": [
    "# Loading the MNIST data"
   ]
  },
  {
   "cell_type": "code",
   "execution_count": 2,
   "id": "fd093a8c",
   "metadata": {},
   "outputs": [],
   "source": [
    "(x_train, y_train), (x_test, y_test) = load_data()\n",
    "x_train = x_train / 255.0\n",
    "x_test = x_test / 255.0\n",
    "x_train = np.expand_dims(x_train, axis=-1)\n",
    "x_test = np.expand_dims(x_test, axis=-1)"
   ]
  },
  {
   "cell_type": "markdown",
   "id": "eac2a61f-dd50-46b6-9328-15b8791979ee",
   "metadata": {},
   "source": [
    "* The **np.expand_dims function** is used to add an additional dimension to an array. In the context of the provided code snippet, it is used to add a channel dimension to the training and test datasets, converting them from 3D arrays (height, width, grayscale) to 4D arrays (batch size, height, width, channels). This is important when working with convolutional neural networks (CNNs) in frameworks like TensorFlow and Keras, which expect the input data to have a specific shape.\n",
    "  \n",
    "* np.expand_dims(x_train, axis=-1) adds a new dimension at the end of the shape, converting (60000, 28, 28) to (60000, 28, 28, 1).\n",
    "  \n",
    "* The value for axis in **np.expand_dims** is given as **-1** to specify that the new dimension should be added at the end of the array's shape. In NumPy, the axis parameter can be a positive integer or a negative integer. When it's a positive integer, it counts the axes from the beginning (starting at 0). When it's a negative integer, it counts the axes from the end (starting at -1)."
   ]
  },
  {
   "cell_type": "markdown",
   "id": "a9c0a241-3b30-4921-a71a-f61d807feba8",
   "metadata": {},
   "source": [
    "# Adding random noise to the dataset"
   ]
  },
  {
   "cell_type": "code",
   "execution_count": 3,
   "id": "151a7b67-1c10-4a65-9708-644c0a9397a4",
   "metadata": {},
   "outputs": [],
   "source": [
    "noise_factor = 0.5\n",
    "x_train_noisy = x_train + noise_factor * np.random.normal(loc=0.0, scale=1.0, size=x_train.shape)\n",
    "x_test_noisy = x_test + noise_factor * np.random.normal(loc=0.0, scale=1.0, size=x_test.shape)\n",
    "x_train_noisy = np.clip(x_train_noisy, 0., 1.)\n",
    "x_test_noisy = np.clip(x_test_noisy, 0., 1.)"
   ]
  },
  {
   "cell_type": "markdown",
   "id": "e821ebab-51ad-4f68-9914-6a172c70fcf9",
   "metadata": {},
   "source": [
    "* **np.random.normal(loc=0.0, scale=1.0, size=x_train.shape)** generates an array of random values drawn from a normal (Gaussian) distribution.\n",
    "  \n",
    "* **loc=0.0:** This specifies the **mean of the Gaussian distribution**, which is 0 in this case.\n",
    "  \n",
    "* **scale=1.0:** This specifies the **standard deviation of the Gaussian distribution**, which is 1 in this case.\n",
    "\n",
    "* **size=x_train.shape:** This specifies the shape of the output array to be the same as x_train. Essentially, it creates a noise array that has the same dimensions as the training data."
   ]
  },
  {
   "cell_type": "markdown",
   "id": "90cf59f7-d729-45a0-9aa0-746c903875f8",
   "metadata": {},
   "source": [
    "# Creating the AutoEncoder Model"
   ]
  },
  {
   "cell_type": "code",
   "execution_count": 4,
   "id": "46600711-ae36-43fa-a94a-bb8ff6837b8a",
   "metadata": {},
   "outputs": [],
   "source": [
    "input_shape = (28, 28, 1)\n",
    "latent_dim = 128"
   ]
  },
  {
   "cell_type": "markdown",
   "id": "7f98f881-f7b5-49fd-a304-4cb1a1fc6b4b",
   "metadata": {},
   "source": [
    "## Encoder"
   ]
  },
  {
   "cell_type": "code",
   "execution_count": 5,
   "id": "ebf032b0-d663-4a27-87c5-c2bf136f0465",
   "metadata": {},
   "outputs": [],
   "source": [
    "inputs = Input(shape=input_shape)\n",
    "x = Conv2D(32, kernel_size=3, strides=2, activation='relu', padding='same')(inputs)\n",
    "x = Conv2D(64, kernel_size=3, strides=2, activation='relu', padding='same')(x)"
   ]
  },
  {
   "cell_type": "code",
   "execution_count": 6,
   "id": "cb1bb43c-3be5-43ef-a783-e7764d275d15",
   "metadata": {},
   "outputs": [],
   "source": [
    "shape_before_bottleneck = backend.int_shape(x)[1:]"
   ]
  },
  {
   "cell_type": "markdown",
   "id": "1869851f-98c5-4e47-87d6-cf0b45405385",
   "metadata": {},
   "source": [
    "* **shape_before_bottleneck = backend.int_shape(x)[1:]** This slice operation removes the first element of the tuple, which corresponds to the batch size.\n",
    "\n",
    "* The resulting shape is (height, width, channels), which are the dimensions of each sample in the batch, excluding the batch dimension."
   ]
  },
  {
   "cell_type": "code",
   "execution_count": 7,
   "id": "8ad63aa5-5921-4791-8ea6-ca0c217bda9c",
   "metadata": {},
   "outputs": [],
   "source": [
    "x = Flatten()(x)\n",
    "latent_repr = Dense(latent_dim)(x)"
   ]
  },
  {
   "cell_type": "markdown",
   "id": "fbfe9c90-f881-4710-bbb6-7287105b1536",
   "metadata": {},
   "source": [
    "## Decoder"
   ]
  },
  {
   "cell_type": "code",
   "execution_count": 8,
   "id": "593b454b-4d26-4213-91dd-7241b00e83c7",
   "metadata": {},
   "outputs": [],
   "source": [
    "x = Dense(np.prod(shape_before_bottleneck))(latent_repr)\n",
    "x = Reshape(shape_before_bottleneck)(x)\n",
    "x = Conv2DTranspose(32, kernel_size=3, strides=2, activation='relu', padding='same')(x)\n",
    "decoded = Conv2DTranspose(1, kernel_size=3, strides=2, activation='sigmoid', padding='same')(x)"
   ]
  },
  {
   "cell_type": "markdown",
   "id": "dec3eab1-baf7-4cf7-9fe0-a5d6ec5a880e",
   "metadata": {},
   "source": [
    "## Combining the encoder and the decoder"
   ]
  },
  {
   "cell_type": "code",
   "execution_count": 9,
   "id": "cbf83a8c-3cc1-45a9-9502-c2b93e771514",
   "metadata": {},
   "outputs": [],
   "source": [
    "autoencoder = Model(inputs, decoded)"
   ]
  },
  {
   "cell_type": "code",
   "execution_count": 10,
   "id": "8ca32be5-6ee0-4954-8ab3-017c308f8e73",
   "metadata": {},
   "outputs": [
    {
     "name": "stdout",
     "output_type": "stream",
     "text": [
      "Model: \"model\"\n",
      "_________________________________________________________________\n",
      " Layer (type)                Output Shape              Param #   \n",
      "=================================================================\n",
      " input_1 (InputLayer)        [(None, 28, 28, 1)]       0         \n",
      "                                                                 \n",
      " conv2d (Conv2D)             (None, 14, 14, 32)        320       \n",
      "                                                                 \n",
      " conv2d_1 (Conv2D)           (None, 7, 7, 64)          18496     \n",
      "                                                                 \n",
      " flatten (Flatten)           (None, 3136)              0         \n",
      "                                                                 \n",
      " dense (Dense)               (None, 128)               401536    \n",
      "                                                                 \n",
      " dense_1 (Dense)             (None, 3136)              404544    \n",
      "                                                                 \n",
      " reshape (Reshape)           (None, 7, 7, 64)          0         \n",
      "                                                                 \n",
      " conv2d_transpose (Conv2DTra  (None, 14, 14, 32)       18464     \n",
      " nspose)                                                         \n",
      "                                                                 \n",
      " conv2d_transpose_1 (Conv2DT  (None, 28, 28, 1)        289       \n",
      " ranspose)                                                       \n",
      "                                                                 \n",
      "=================================================================\n",
      "Total params: 843,649\n",
      "Trainable params: 843,649\n",
      "Non-trainable params: 0\n",
      "_________________________________________________________________\n"
     ]
    }
   ],
   "source": [
    "autoencoder.summary()"
   ]
  },
  {
   "cell_type": "markdown",
   "id": "00e1d307-02ac-4efe-8163-4f9450a30224",
   "metadata": {},
   "source": [
    "# Compiling the model"
   ]
  },
  {
   "cell_type": "code",
   "execution_count": 11,
   "id": "d308e484-dfc7-48f3-ae56-6e535cb94c63",
   "metadata": {},
   "outputs": [],
   "source": [
    "autoencoder.compile(optimizer=Adam(learning_rate=0.0002), loss='binary_crossentropy', metrics=['accuracy'])"
   ]
  },
  {
   "cell_type": "markdown",
   "id": "23a4065e-9352-4be0-b190-1b0f2b424b5f",
   "metadata": {},
   "source": [
    "# Adding Earlystopping to prevent overfitting"
   ]
  },
  {
   "cell_type": "code",
   "execution_count": 12,
   "id": "53e016d1-2d7f-4e17-90f9-58c9be656846",
   "metadata": {},
   "outputs": [],
   "source": [
    "early_stopping = EarlyStopping(monitor='val_loss', patience=5, restore_best_weights=True)"
   ]
  },
  {
   "cell_type": "markdown",
   "id": "495addc2-28fc-499a-a4a5-7435fdbb2e50",
   "metadata": {},
   "source": [
    "# Training the Autoencoder model"
   ]
  },
  {
   "cell_type": "code",
   "execution_count": 13,
   "id": "4da31782-4806-48dc-b470-49ae5b999c5b",
   "metadata": {},
   "outputs": [
    {
     "name": "stdout",
     "output_type": "stream",
     "text": [
      "Epoch 1/100\n",
      "938/938 [==============================] - 6s 6ms/step - loss: 0.2295 - accuracy: 0.7984 - val_loss: 0.1410 - val_accuracy: 0.8068\n",
      "Epoch 2/100\n",
      "938/938 [==============================] - 5s 6ms/step - loss: 0.1265 - accuracy: 0.8093 - val_loss: 0.1148 - val_accuracy: 0.8100\n",
      "Epoch 3/100\n",
      "938/938 [==============================] - 5s 6ms/step - loss: 0.1110 - accuracy: 0.8117 - val_loss: 0.1059 - val_accuracy: 0.8114\n",
      "Epoch 4/100\n",
      "938/938 [==============================] - 5s 6ms/step - loss: 0.1045 - accuracy: 0.8126 - val_loss: 0.1016 - val_accuracy: 0.8118\n",
      "Epoch 5/100\n",
      "938/938 [==============================] - 5s 6ms/step - loss: 0.1010 - accuracy: 0.8130 - val_loss: 0.0992 - val_accuracy: 0.8121\n",
      "Epoch 6/100\n",
      "938/938 [==============================] - 5s 6ms/step - loss: 0.0988 - accuracy: 0.8133 - val_loss: 0.0977 - val_accuracy: 0.8124\n",
      "Epoch 7/100\n",
      "938/938 [==============================] - 5s 6ms/step - loss: 0.0973 - accuracy: 0.8134 - val_loss: 0.0966 - val_accuracy: 0.8126\n",
      "Epoch 8/100\n",
      "938/938 [==============================] - 5s 6ms/step - loss: 0.0962 - accuracy: 0.8136 - val_loss: 0.0959 - val_accuracy: 0.8125\n",
      "Epoch 9/100\n",
      "938/938 [==============================] - 5s 6ms/step - loss: 0.0953 - accuracy: 0.8136 - val_loss: 0.0952 - val_accuracy: 0.8127\n",
      "Epoch 10/100\n",
      "938/938 [==============================] - 5s 6ms/step - loss: 0.0946 - accuracy: 0.8137 - val_loss: 0.0949 - val_accuracy: 0.8127\n",
      "Epoch 11/100\n",
      "938/938 [==============================] - 5s 6ms/step - loss: 0.0940 - accuracy: 0.8138 - val_loss: 0.0945 - val_accuracy: 0.8127\n",
      "Epoch 12/100\n",
      "938/938 [==============================] - 5s 6ms/step - loss: 0.0935 - accuracy: 0.8138 - val_loss: 0.0943 - val_accuracy: 0.8126\n",
      "Epoch 13/100\n",
      "938/938 [==============================] - 5s 6ms/step - loss: 0.0930 - accuracy: 0.8139 - val_loss: 0.0940 - val_accuracy: 0.8127\n",
      "Epoch 14/100\n",
      "938/938 [==============================] - 5s 6ms/step - loss: 0.0926 - accuracy: 0.8139 - val_loss: 0.0938 - val_accuracy: 0.8128\n",
      "Epoch 15/100\n",
      "938/938 [==============================] - 5s 6ms/step - loss: 0.0922 - accuracy: 0.8140 - val_loss: 0.0937 - val_accuracy: 0.8128\n",
      "Epoch 16/100\n",
      "938/938 [==============================] - 5s 6ms/step - loss: 0.0919 - accuracy: 0.8140 - val_loss: 0.0937 - val_accuracy: 0.8129\n",
      "Epoch 17/100\n",
      "938/938 [==============================] - 5s 6ms/step - loss: 0.0916 - accuracy: 0.8140 - val_loss: 0.0935 - val_accuracy: 0.8127\n",
      "Epoch 18/100\n",
      "938/938 [==============================] - 5s 6ms/step - loss: 0.0913 - accuracy: 0.8140 - val_loss: 0.0934 - val_accuracy: 0.8128\n",
      "Epoch 19/100\n",
      "938/938 [==============================] - 5s 6ms/step - loss: 0.0910 - accuracy: 0.8141 - val_loss: 0.0934 - val_accuracy: 0.8126\n",
      "Epoch 20/100\n",
      "938/938 [==============================] - 5s 6ms/step - loss: 0.0908 - accuracy: 0.8141 - val_loss: 0.0934 - val_accuracy: 0.8128\n",
      "Epoch 21/100\n",
      "938/938 [==============================] - 5s 6ms/step - loss: 0.0905 - accuracy: 0.8141 - val_loss: 0.0931 - val_accuracy: 0.8127\n",
      "Epoch 22/100\n",
      "938/938 [==============================] - 5s 6ms/step - loss: 0.0903 - accuracy: 0.8141 - val_loss: 0.0932 - val_accuracy: 0.8127\n",
      "Epoch 23/100\n",
      "938/938 [==============================] - 5s 6ms/step - loss: 0.0901 - accuracy: 0.8141 - val_loss: 0.0932 - val_accuracy: 0.8128\n",
      "Epoch 24/100\n",
      "938/938 [==============================] - 5s 6ms/step - loss: 0.0899 - accuracy: 0.8142 - val_loss: 0.0932 - val_accuracy: 0.8130\n",
      "Epoch 25/100\n",
      "938/938 [==============================] - 5s 6ms/step - loss: 0.0896 - accuracy: 0.8142 - val_loss: 0.0932 - val_accuracy: 0.8128\n",
      "Epoch 26/100\n",
      "938/938 [==============================] - 5s 6ms/step - loss: 0.0895 - accuracy: 0.8142 - val_loss: 0.0931 - val_accuracy: 0.8127\n",
      "Epoch 27/100\n",
      "938/938 [==============================] - 5s 6ms/step - loss: 0.0893 - accuracy: 0.8142 - val_loss: 0.0931 - val_accuracy: 0.8128\n",
      "Epoch 28/100\n",
      "938/938 [==============================] - 5s 6ms/step - loss: 0.0891 - accuracy: 0.8142 - val_loss: 0.0931 - val_accuracy: 0.8129\n",
      "Epoch 29/100\n",
      "938/938 [==============================] - 5s 6ms/step - loss: 0.0889 - accuracy: 0.8143 - val_loss: 0.0933 - val_accuracy: 0.8129\n",
      "Epoch 30/100\n",
      "938/938 [==============================] - 5s 6ms/step - loss: 0.0888 - accuracy: 0.8143 - val_loss: 0.0931 - val_accuracy: 0.8128\n",
      "Epoch 31/100\n",
      "938/938 [==============================] - 5s 6ms/step - loss: 0.0886 - accuracy: 0.8143 - val_loss: 0.0933 - val_accuracy: 0.8127\n",
      "Epoch 32/100\n",
      "938/938 [==============================] - 5s 6ms/step - loss: 0.0884 - accuracy: 0.8143 - val_loss: 0.0932 - val_accuracy: 0.8129\n",
      "Epoch 33/100\n",
      "938/938 [==============================] - 5s 6ms/step - loss: 0.0883 - accuracy: 0.8143 - val_loss: 0.0932 - val_accuracy: 0.8128\n"
     ]
    }
   ],
   "source": [
    "history = autoencoder.fit(x_train_noisy, x_train, validation_data=(x_test_noisy, x_test), epochs=100, batch_size=64, callbacks=[early_stopping])"
   ]
  },
  {
   "cell_type": "markdown",
   "id": "516fb5f1-519b-4edd-a602-f9d442e73d28",
   "metadata": {},
   "source": [
    "# Displaying the results"
   ]
  },
  {
   "cell_type": "code",
   "execution_count": 14,
   "id": "de60608b-bec8-4223-892f-b4c11e67fc2a",
   "metadata": {},
   "outputs": [
    {
     "name": "stdout",
     "output_type": "stream",
     "text": [
      "313/313 [==============================] - 1s 1ms/step\n"
     ]
    }
   ],
   "source": [
    "denoised_test_images = autoencoder.predict(x_test_noisy)"
   ]
  },
  {
   "cell_type": "code",
   "execution_count": 15,
   "id": "e34623e7-db3c-45e2-9adb-8d13e23460ab",
   "metadata": {},
   "outputs": [
    {
     "data": {
      "image/png": "[encoded data removed]",
      "text/plain": [
       "<Figure size 2000x400 with 30 Axes>"
      ]
     },
     "metadata": {},
     "output_type": "display_data"
    }
   ],
   "source": [
    "# Displaying original, noisy, and denoised images\n",
    "n = 10\n",
    "plt.figure(figsize=(20, 4))\n",
    "for i in range(n):\n",
    "    # Original images\n",
    "    ax = plt.subplot(3, n, i + 1)\n",
    "    plt.imshow(x_test[i].reshape(28, 28), cmap='gray')\n",
    "    plt.title(\"Original\")\n",
    "    ax.get_xaxis().set_visible(False)\n",
    "    ax.get_yaxis().set_visible(False)\n",
    "\n",
    "    # Noisy images\n",
    "    ax = plt.subplot(3, n, i + 1 + n)\n",
    "    plt.imshow(x_test_noisy[i].reshape(28, 28), cmap='gray')\n",
    "    plt.title(\"Noisy\")\n",
    "    ax.get_xaxis().set_visible(False)\n",
    "    ax.get_yaxis().set_visible(False)\n",
    "\n",
    "    # Denoised images\n",
    "    ax = plt.subplot(3, n, i + 1 + n + n)\n",
    "    plt.imshow(denoised_test_images[i].reshape(28, 28), cmap='gray')\n",
    "    plt.title(\"Denoised\")\n",
    "    ax.get_xaxis().set_visible(False)\n",
    "    ax.get_yaxis().set_visible(False)\n",
    "plt.show()"
   ]
  },
  {
   "cell_type": "code",
   "execution_count": 16,
   "id": "c7d88c12-a272-4668-b92b-33d1877b7668",
   "metadata": {},
   "outputs": [
    {
     "data": {
      "image/png": "[encoded data removed]",
      "text/plain": [
       "<Figure size 640x480 with 1 Axes>"
      ]
     },
     "metadata": {},
     "output_type": "display_data"
    }
   ],
   "source": [
    "def plotloss(history):\n",
    "    plt.plot(history.history['loss'])\n",
    "    plt.plot(history.history['val_loss'])\n",
    "    plt.plot(history.history['accuracy'])\n",
    "    plt.xlabel('Epochs')\n",
    "    plt.ylabel('Loss')\n",
    "    plt.legend(['Train', 'Validation', 'Accuracy'])\n",
    "    plt.show()\n",
    "\n",
    "plotloss(history)"
   ]
  },
  {
   "cell_type": "code",
   "execution_count": 17,
   "id": "e44ac6e4-5d6a-4f76-9e97-e419a73725b6",
   "metadata": {},
   "outputs": [
    {
     "name": "stdout",
     "output_type": "stream",
     "text": [
      "313/313 [==============================] - 1s 2ms/step - loss: 0.0931 - accuracy: 0.8129\n"
     ]
    },
    {
     "data": {
      "text/plain": [
       "0.8129215240478516"
      ]
     },
     "execution_count": 17,
     "metadata": {},
     "output_type": "execute_result"
    }
   ],
   "source": [
    "#Checking the model accuracy\n",
    "evaluation = autoencoder.evaluate(x_test_noisy, x_test)\n",
    "evaluation[1]"
   ]
  },
  {
   "cell_type": "code",
   "execution_count": null,
   "id": "6f960647-41e4-4e58-bcbc-09cafa180e35",
   "metadata": {},
   "outputs": [],
   "source": []
  },
  {
   "cell_type": "code",
   "execution_count": null,
   "id": "450869ad-48e9-48b7-b306-b30ccc2cdf47",
   "metadata": {},
   "outputs": [],
   "source": []
  }
 ],
 "metadata": {
  "kernelspec": {
   "display_name": "Python 3 (ipykernel)",
   "language": "python",
   "name": "python3"
  },
  "language_info": {
   "codemirror_mode": {
    "name": "ipython",
    "version": 3
   },
   "file_extension": ".py",
   "mimetype": "text/x-python",
   "name": "python",
   "nbconvert_exporter": "python",
   "pygments_lexer": "ipython3",
   "version": "3.9.18"
  }
 },
 "nbformat": 4,
 "nbformat_minor": 5
}
